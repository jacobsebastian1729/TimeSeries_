{
 "cells": [
  {
   "cell_type": "code",
   "execution_count": null,
   "metadata": {
    "id": "oNCeLFIdxDIx"
   },
   "outputs": [],
   "source": [
    "import numpy as np\n",
    "import pandas as pd\n",
    "import matplotlib.pyplot as plt\n",
    "import math"
   ]
  },
  {
   "cell_type": "code",
   "execution_count": null,
   "metadata": {
    "id": "J-IhsRFLxFKq"
   },
   "outputs": [],
   "source": [
    "df = pd.read_csv('station_153211-2022-09_2023-01.csv')\n",
    "df['created_at'] = pd.to_datetime(df['created_at'])\n",
    "df1 = df.copy()\n",
    "df1['created_at'] = df1['created_at'].dt.floor('min')\n",
    "df3 = pd.to_datetime(df1['created_at']).dt.time\n",
    "start = pd.to_datetime('2022-09-01 00:00:00')\n",
    "end = pd.to_datetime('2023-01-05 11:00:00')\n",
    "dates = pd.date_range(start=start, end=end, freq='1min')\n",
    "df4 = df1.groupby(['created_at'], as_index=False).median()\n",
    "df4 = df4.set_index('created_at').reindex(dates).reset_index().reindex(columns=df4.columns)\n",
    "df4['created_at'] = dates\n",
    "df4.fillna(method='pad', inplace=True)\n",
    "df4.fillna(method='bfill', inplace=True)\n",
    "df5 = df4[df4.index %60 == 0]\n",
    "df5.index = (df5.index/60)\n",
    "df5.index = df5.index.astype(int)\n",
    "df6 = df5.copy()\n",
    "df6 = df6.drop(columns=['station_id', 'outlet_count','offline_count','occupied_count','unknown_count'])"
   ]
  },
  {
   "cell_type": "code",
   "execution_count": null,
   "metadata": {
    "colab": {
     "base_uri": "https://localhost:8080/",
     "height": 206
    },
    "id": "qo4TDX1hjzee",
    "outputId": "266134dc-8032-416e-caad-c80a46debc74"
   },
   "outputs": [
    {
     "data": {
      "text/html": [
       "\n",
       "  <div id=\"df-75787249-a159-4e3e-a56a-701bbfb310ec\">\n",
       "    <div class=\"colab-df-container\">\n",
       "      <div>\n",
       "<style scoped>\n",
       "    .dataframe tbody tr th:only-of-type {\n",
       "        vertical-align: middle;\n",
       "    }\n",
       "\n",
       "    .dataframe tbody tr th {\n",
       "        vertical-align: top;\n",
       "    }\n",
       "\n",
       "    .dataframe thead th {\n",
       "        text-align: right;\n",
       "    }\n",
       "</style>\n",
       "<table border=\"1\" class=\"dataframe\">\n",
       "  <thead>\n",
       "    <tr style=\"text-align: right;\">\n",
       "      <th></th>\n",
       "      <th>station_id</th>\n",
       "      <th>outlet_count</th>\n",
       "      <th>unknown_count</th>\n",
       "      <th>available_count</th>\n",
       "      <th>occupied_count</th>\n",
       "      <th>offline_count</th>\n",
       "      <th>created_at</th>\n",
       "    </tr>\n",
       "  </thead>\n",
       "  <tbody>\n",
       "    <tr>\n",
       "      <th>0</th>\n",
       "      <td>153211</td>\n",
       "      <td>6</td>\n",
       "      <td>0</td>\n",
       "      <td>3</td>\n",
       "      <td>2</td>\n",
       "      <td>1</td>\n",
       "      <td>2022-09-01 04:37:14</td>\n",
       "    </tr>\n",
       "    <tr>\n",
       "      <th>1</th>\n",
       "      <td>153211</td>\n",
       "      <td>6</td>\n",
       "      <td>0</td>\n",
       "      <td>5</td>\n",
       "      <td>0</td>\n",
       "      <td>1</td>\n",
       "      <td>2022-09-01 05:09:52</td>\n",
       "    </tr>\n",
       "    <tr>\n",
       "      <th>2</th>\n",
       "      <td>153211</td>\n",
       "      <td>6</td>\n",
       "      <td>0</td>\n",
       "      <td>5</td>\n",
       "      <td>0</td>\n",
       "      <td>1</td>\n",
       "      <td>2022-09-01 05:13:47</td>\n",
       "    </tr>\n",
       "    <tr>\n",
       "      <th>3</th>\n",
       "      <td>153211</td>\n",
       "      <td>6</td>\n",
       "      <td>0</td>\n",
       "      <td>2</td>\n",
       "      <td>3</td>\n",
       "      <td>1</td>\n",
       "      <td>2022-09-01 06:28:13</td>\n",
       "    </tr>\n",
       "    <tr>\n",
       "      <th>4</th>\n",
       "      <td>153211</td>\n",
       "      <td>6</td>\n",
       "      <td>0</td>\n",
       "      <td>3</td>\n",
       "      <td>2</td>\n",
       "      <td>1</td>\n",
       "      <td>2022-09-01 06:33:42</td>\n",
       "    </tr>\n",
       "  </tbody>\n",
       "</table>\n",
       "</div>\n",
       "      <button class=\"colab-df-convert\" onclick=\"convertToInteractive('df-75787249-a159-4e3e-a56a-701bbfb310ec')\"\n",
       "              title=\"Convert this dataframe to an interactive table.\"\n",
       "              style=\"display:none;\">\n",
       "        \n",
       "  <svg xmlns=\"http://www.w3.org/2000/svg\" height=\"24px\"viewBox=\"0 0 24 24\"\n",
       "       width=\"24px\">\n",
       "    <path d=\"M0 0h24v24H0V0z\" fill=\"none\"/>\n",
       "    <path d=\"M18.56 5.44l.94 2.06.94-2.06 2.06-.94-2.06-.94-.94-2.06-.94 2.06-2.06.94zm-11 1L8.5 8.5l.94-2.06 2.06-.94-2.06-.94L8.5 2.5l-.94 2.06-2.06.94zm10 10l.94 2.06.94-2.06 2.06-.94-2.06-.94-.94-2.06-.94 2.06-2.06.94z\"/><path d=\"M17.41 7.96l-1.37-1.37c-.4-.4-.92-.59-1.43-.59-.52 0-1.04.2-1.43.59L10.3 9.45l-7.72 7.72c-.78.78-.78 2.05 0 2.83L4 21.41c.39.39.9.59 1.41.59.51 0 1.02-.2 1.41-.59l7.78-7.78 2.81-2.81c.8-.78.8-2.07 0-2.86zM5.41 20L4 18.59l7.72-7.72 1.47 1.35L5.41 20z\"/>\n",
       "  </svg>\n",
       "      </button>\n",
       "      \n",
       "  <style>\n",
       "    .colab-df-container {\n",
       "      display:flex;\n",
       "      flex-wrap:wrap;\n",
       "      gap: 12px;\n",
       "    }\n",
       "\n",
       "    .colab-df-convert {\n",
       "      background-color: #E8F0FE;\n",
       "      border: none;\n",
       "      border-radius: 50%;\n",
       "      cursor: pointer;\n",
       "      display: none;\n",
       "      fill: #1967D2;\n",
       "      height: 32px;\n",
       "      padding: 0 0 0 0;\n",
       "      width: 32px;\n",
       "    }\n",
       "\n",
       "    .colab-df-convert:hover {\n",
       "      background-color: #E2EBFA;\n",
       "      box-shadow: 0px 1px 2px rgba(60, 64, 67, 0.3), 0px 1px 3px 1px rgba(60, 64, 67, 0.15);\n",
       "      fill: #174EA6;\n",
       "    }\n",
       "\n",
       "    [theme=dark] .colab-df-convert {\n",
       "      background-color: #3B4455;\n",
       "      fill: #D2E3FC;\n",
       "    }\n",
       "\n",
       "    [theme=dark] .colab-df-convert:hover {\n",
       "      background-color: #434B5C;\n",
       "      box-shadow: 0px 1px 3px 1px rgba(0, 0, 0, 0.15);\n",
       "      filter: drop-shadow(0px 1px 2px rgba(0, 0, 0, 0.3));\n",
       "      fill: #FFFFFF;\n",
       "    }\n",
       "  </style>\n",
       "\n",
       "      <script>\n",
       "        const buttonEl =\n",
       "          document.querySelector('#df-75787249-a159-4e3e-a56a-701bbfb310ec button.colab-df-convert');\n",
       "        buttonEl.style.display =\n",
       "          google.colab.kernel.accessAllowed ? 'block' : 'none';\n",
       "\n",
       "        async function convertToInteractive(key) {\n",
       "          const element = document.querySelector('#df-75787249-a159-4e3e-a56a-701bbfb310ec');\n",
       "          const dataTable =\n",
       "            await google.colab.kernel.invokeFunction('convertToInteractive',\n",
       "                                                     [key], {});\n",
       "          if (!dataTable) return;\n",
       "\n",
       "          const docLinkHtml = 'Like what you see? Visit the ' +\n",
       "            '<a target=\"_blank\" href=https://colab.research.google.com/notebooks/data_table.ipynb>data table notebook</a>'\n",
       "            + ' to learn more about interactive tables.';\n",
       "          element.innerHTML = '';\n",
       "          dataTable['output_type'] = 'display_data';\n",
       "          await google.colab.output.renderOutput(dataTable, element);\n",
       "          const docLink = document.createElement('div');\n",
       "          docLink.innerHTML = docLinkHtml;\n",
       "          element.appendChild(docLink);\n",
       "        }\n",
       "      </script>\n",
       "    </div>\n",
       "  </div>\n",
       "  "
      ],
      "text/plain": [
       "   station_id  outlet_count  unknown_count  available_count  occupied_count  \\\n",
       "0      153211             6              0                3               2   \n",
       "1      153211             6              0                5               0   \n",
       "2      153211             6              0                5               0   \n",
       "3      153211             6              0                2               3   \n",
       "4      153211             6              0                3               2   \n",
       "\n",
       "   offline_count          created_at  \n",
       "0              1 2022-09-01 04:37:14  \n",
       "1              1 2022-09-01 05:09:52  \n",
       "2              1 2022-09-01 05:13:47  \n",
       "3              1 2022-09-01 06:28:13  \n",
       "4              1 2022-09-01 06:33:42  "
      ]
     },
     "execution_count": 4,
     "metadata": {},
     "output_type": "execute_result"
    }
   ],
   "source": [
    "df.head()"
   ]
  },
  {
   "cell_type": "code",
   "execution_count": null,
   "metadata": {
    "id": "ihEBtCsMxJ9g"
   },
   "outputs": [],
   "source": [
    "#STATIONARITY\n",
    "from statsmodels.tsa.stattools import adfuller\n",
    "from pandas.plotting import register_matplotlib_converters\n",
    "from statsmodels.graphics.tsaplots import plot_acf, plot_pacf"
   ]
  },
  {
   "cell_type": "code",
   "execution_count": null,
   "metadata": {
    "colab": {
     "base_uri": "https://localhost:8080/",
     "height": 1000
    },
    "id": "RsJsJZcyxhuu",
    "outputId": "856db76c-7a88-4862-b626-25fa22f08ee1"
   },
   "outputs": [
    {
     "name": "stderr",
     "output_type": "stream",
     "text": [
      "/usr/local/lib/python3.10/dist-packages/statsmodels/graphics/tsaplots.py:348: FutureWarning: The default method 'yw' can produce PACF values outside of the [-1,1] interval. After 0.13, the default will change tounadjusted Yule-Walker ('ywm'). You can use this method now by setting method='ywm'.\n",
      "  warnings.warn(\n"
     ]
    },
    {
     "name": "stdout",
     "output_type": "stream",
     "text": [
      "                     available_count\n",
      "created_at                          \n",
      "2022-09-01 01:00:00              3.0\n",
      "0.00019612425231140866\n"
     ]
    },
    {
     "data": {
      "image/png": "[encoded data removed]",
      "text/plain": [
       "<Figure size 640x480 with 1 Axes>"
      ]
     },
     "metadata": {},
     "output_type": "display_data"
    },
    {
     "data": {
      "image/png": "[encoded data removed]",
      "text/plain": [
       "<Figure size 640x480 with 1 Axes>"
      ]
     },
     "metadata": {},
     "output_type": "display_data"
    }
   ],
   "source": [
    "#STATIONARITY\n",
    "#for i in range(1):\n",
    "df_s = df6#[(df6.index+i) %24 == 0]\n",
    "df_s.set_index('created_at', inplace = True)\n",
    "adftest = adfuller(df_s['available_count'])\n",
    "  #plt.title(24-i)\n",
    "acf_plot = plot_acf(df_s['available_count'], lags = 30)\n",
    "pacf_plot = plot_pacf(df_s['available_count'], lags = 30)\n",
    "  \n",
    "print(df_s[1:2])\n",
    "print(adftest[1])\n",
    "  #acf_plot = plot_acf(df_s['available_count'], lags = 100)\n",
    "  #pacf_plot = plot_pacf(df_s['available_count'], lags = 50)"
   ]
  },
  {
   "cell_type": "code",
   "execution_count": null,
   "metadata": {
    "id": "6mrWOm_IDO9Z"
   },
   "outputs": [],
   "source": []
  },
  {
   "cell_type": "code",
   "execution_count": null,
   "metadata": {
    "id": "luF1R0J0mrD1"
   },
   "outputs": [],
   "source": [
    "import statsmodels.api as sm"
   ]
  },
  {
   "cell_type": "code",
   "execution_count": null,
   "metadata": {
    "colab": {
     "base_uri": "https://localhost:8080/"
    },
    "id": "UN-SQ8B3x0vU",
    "outputId": "e7902fec-d6aa-437b-af93-2b9a25dc9a49"
   },
   "outputs": [
    {
     "name": "stderr",
     "output_type": "stream",
     "text": [
      "/usr/local/lib/python3.9/dist-packages/statsmodels/tsa/base/tsa_model.py:471: ValueWarning: No frequency information was provided, so inferred frequency H will be used.\n",
      "  self._init_dates(dates, freq)\n",
      "/usr/local/lib/python3.9/dist-packages/statsmodels/tsa/base/tsa_model.py:471: ValueWarning: No frequency information was provided, so inferred frequency H will be used.\n",
      "  self._init_dates(dates, freq)\n",
      "/usr/local/lib/python3.9/dist-packages/statsmodels/tsa/base/tsa_model.py:471: ValueWarning: No frequency information was provided, so inferred frequency H will be used.\n",
      "  self._init_dates(dates, freq)\n",
      "/usr/local/lib/python3.9/dist-packages/statsmodels/tsa/base/tsa_model.py:471: ValueWarning: No frequency information was provided, so inferred frequency H will be used.\n",
      "  self._init_dates(dates, freq)\n",
      "/usr/local/lib/python3.9/dist-packages/statsmodels/tsa/base/tsa_model.py:471: ValueWarning: No frequency information was provided, so inferred frequency H will be used.\n",
      "  self._init_dates(dates, freq)\n",
      "/usr/local/lib/python3.9/dist-packages/statsmodels/tsa/base/tsa_model.py:471: ValueWarning: No frequency information was provided, so inferred frequency H will be used.\n",
      "  self._init_dates(dates, freq)\n",
      "/usr/local/lib/python3.9/dist-packages/statsmodels/tsa/base/tsa_model.py:471: ValueWarning: No frequency information was provided, so inferred frequency H will be used.\n",
      "  self._init_dates(dates, freq)\n",
      "/usr/local/lib/python3.9/dist-packages/statsmodels/tsa/base/tsa_model.py:471: ValueWarning: No frequency information was provided, so inferred frequency H will be used.\n",
      "  self._init_dates(dates, freq)\n",
      "/usr/local/lib/python3.9/dist-packages/statsmodels/tsa/base/tsa_model.py:471: ValueWarning: No frequency information was provided, so inferred frequency H will be used.\n",
      "  self._init_dates(dates, freq)\n",
      "/usr/local/lib/python3.9/dist-packages/statsmodels/tsa/base/tsa_model.py:471: ValueWarning: No frequency information was provided, so inferred frequency H will be used.\n",
      "  self._init_dates(dates, freq)\n",
      "/usr/local/lib/python3.9/dist-packages/statsmodels/tsa/base/tsa_model.py:471: ValueWarning: No frequency information was provided, so inferred frequency H will be used.\n",
      "  self._init_dates(dates, freq)\n",
      "/usr/local/lib/python3.9/dist-packages/statsmodels/tsa/base/tsa_model.py:471: ValueWarning: No frequency information was provided, so inferred frequency H will be used.\n",
      "  self._init_dates(dates, freq)\n",
      "/usr/local/lib/python3.9/dist-packages/statsmodels/tsa/base/tsa_model.py:471: ValueWarning: No frequency information was provided, so inferred frequency H will be used.\n",
      "  self._init_dates(dates, freq)\n",
      "/usr/local/lib/python3.9/dist-packages/statsmodels/tsa/base/tsa_model.py:471: ValueWarning: No frequency information was provided, so inferred frequency H will be used.\n",
      "  self._init_dates(dates, freq)\n",
      "/usr/local/lib/python3.9/dist-packages/statsmodels/tsa/base/tsa_model.py:471: ValueWarning: No frequency information was provided, so inferred frequency H will be used.\n",
      "  self._init_dates(dates, freq)\n"
     ]
    }
   ],
   "source": [
    "train_end = int(len(df_s)*0.8)\n",
    "test_end = int(len(df_s))\n",
    "train_data = df_s.available_count[:train_end]\n",
    "test_data = df_s.available_count[train_end: test_end]\n",
    "ar_orders = [1,2,3, 7,22]#[1,2, 3,4,5,6, 7,8,9, 10]\n",
    "fitted_model_dict = {}\n",
    "\n",
    "for idx, ar_order in enumerate(ar_orders):\n",
    "    \n",
    "    #create AR(p) model\n",
    "    ar_model = sm.tsa.arima.ARIMA(train_data, order=(ar_order, 0, 0))\n",
    "    ar_model_fit = ar_model.fit()\n",
    "    fitted_model_dict[ar_order] = ar_model_fit\n",
    "    #plt.subplot(10,1,idx+1)\n",
    "    #plt.plot(train_data[:100])\n",
    "    #plt.plot(ar_model_fit.fittedvalues[:100])\n",
    "    #plt.title('AR(%s) Fit'%ar_order, fontsize=16)\n",
    "\n",
    "#plt.tight_layout()"
   ]
  },
  {
   "cell_type": "code",
   "execution_count": null,
   "metadata": {
    "colab": {
     "base_uri": "https://localhost:8080/"
    },
    "id": "chafapQLm_HT",
    "outputId": "71d574e1-4584-42ff-bca9-3ffe0c8d98c5"
   },
   "outputs": [
    {
     "name": "stdout",
     "output_type": "stream",
     "text": [
      "AIC for AR(1): 8884.678009111265\n",
      "AIC for AR(2): 8720.64175565428\n",
      "AIC for AR(3): 8713.674949937138\n",
      "AIC for AR(7): 8606.028605747608\n",
      "AIC for AR(22): 8298.724788795118\n"
     ]
    }
   ],
   "source": [
    "\n",
    "\n",
    "#AIC comparison\n",
    "for ar_order in ar_orders:\n",
    "    print('AIC for AR(%s): %s'%(ar_order, fitted_model_dict[ar_order].aic))\n",
    "\n"
   ]
  },
  {
   "cell_type": "code",
   "execution_count": null,
   "metadata": {
    "colab": {
     "base_uri": "https://localhost:8080/"
    },
    "id": "Xt5EYgEknoM-",
    "outputId": "af663321-90b7-465b-f73e-dc8efd07d111"
   },
   "outputs": [
    {
     "name": "stdout",
     "output_type": "stream",
     "text": [
      "BIC for AR(1): 8902.062478567803\n",
      "BIC for AR(2): 8743.821048262998\n",
      "BIC for AR(3): 8742.649065698035\n",
      "BIC for AR(7): 8658.182014117223\n",
      "BIC for AR(22): 8437.800544447424\n"
     ]
    }
   ],
   "source": [
    "#BIC comparison\n",
    "for ar_order in ar_orders:\n",
    "    print('BIC for AR(%s): %s'%(ar_order, fitted_model_dict[ar_order].bic))"
   ]
  },
  {
   "cell_type": "code",
   "execution_count": null,
   "metadata": {
    "colab": {
     "base_uri": "https://localhost:8080/"
    },
    "id": "nBGW8eNKnwc7",
    "outputId": "33c8f12b-d2bc-441f-8b62-d40f8f530c1e"
   },
   "outputs": [
    {
     "name": "stdout",
     "output_type": "stream",
     "text": [
      "1\n"
     ]
    },
    {
     "name": "stderr",
     "output_type": "stream",
     "text": [
      "/usr/local/lib/python3.10/dist-packages/statsmodels/tsa/base/tsa_model.py:471: ValueWarning: No frequency information was provided, so inferred frequency H will be used.\n",
      "  self._init_dates(dates, freq)\n",
      "/usr/local/lib/python3.10/dist-packages/statsmodels/tsa/base/tsa_model.py:471: ValueWarning: No frequency information was provided, so inferred frequency H will be used.\n",
      "  self._init_dates(dates, freq)\n",
      "/usr/local/lib/python3.10/dist-packages/statsmodels/tsa/base/tsa_model.py:471: ValueWarning: No frequency information was provided, so inferred frequency H will be used.\n",
      "  self._init_dates(dates, freq)\n"
     ]
    },
    {
     "name": "stdout",
     "output_type": "stream",
     "text": [
      "2\n"
     ]
    },
    {
     "name": "stderr",
     "output_type": "stream",
     "text": [
      "/usr/local/lib/python3.10/dist-packages/statsmodels/tsa/base/tsa_model.py:471: ValueWarning: No frequency information was provided, so inferred frequency H will be used.\n",
      "  self._init_dates(dates, freq)\n",
      "/usr/local/lib/python3.10/dist-packages/statsmodels/tsa/base/tsa_model.py:471: ValueWarning: No frequency information was provided, so inferred frequency H will be used.\n",
      "  self._init_dates(dates, freq)\n",
      "/usr/local/lib/python3.10/dist-packages/statsmodels/tsa/base/tsa_model.py:471: ValueWarning: No frequency information was provided, so inferred frequency H will be used.\n",
      "  self._init_dates(dates, freq)\n"
     ]
    },
    {
     "name": "stdout",
     "output_type": "stream",
     "text": [
      "3\n"
     ]
    },
    {
     "name": "stderr",
     "output_type": "stream",
     "text": [
      "/usr/local/lib/python3.10/dist-packages/statsmodels/tsa/base/tsa_model.py:471: ValueWarning: No frequency information was provided, so inferred frequency H will be used.\n",
      "  self._init_dates(dates, freq)\n",
      "/usr/local/lib/python3.10/dist-packages/statsmodels/tsa/base/tsa_model.py:471: ValueWarning: No frequency information was provided, so inferred frequency H will be used.\n",
      "  self._init_dates(dates, freq)\n",
      "/usr/local/lib/python3.10/dist-packages/statsmodels/tsa/base/tsa_model.py:471: ValueWarning: No frequency information was provided, so inferred frequency H will be used.\n",
      "  self._init_dates(dates, freq)\n"
     ]
    },
    {
     "name": "stdout",
     "output_type": "stream",
     "text": [
      "4\n"
     ]
    },
    {
     "name": "stderr",
     "output_type": "stream",
     "text": [
      "/usr/local/lib/python3.10/dist-packages/statsmodels/tsa/base/tsa_model.py:471: ValueWarning: No frequency information was provided, so inferred frequency H will be used.\n",
      "  self._init_dates(dates, freq)\n",
      "/usr/local/lib/python3.10/dist-packages/statsmodels/tsa/base/tsa_model.py:471: ValueWarning: No frequency information was provided, so inferred frequency H will be used.\n",
      "  self._init_dates(dates, freq)\n",
      "/usr/local/lib/python3.10/dist-packages/statsmodels/tsa/base/tsa_model.py:471: ValueWarning: No frequency information was provided, so inferred frequency H will be used.\n",
      "  self._init_dates(dates, freq)\n"
     ]
    },
    {
     "name": "stdout",
     "output_type": "stream",
     "text": [
      "5\n"
     ]
    },
    {
     "name": "stderr",
     "output_type": "stream",
     "text": [
      "/usr/local/lib/python3.10/dist-packages/statsmodels/tsa/base/tsa_model.py:471: ValueWarning: No frequency information was provided, so inferred frequency H will be used.\n",
      "  self._init_dates(dates, freq)\n",
      "/usr/local/lib/python3.10/dist-packages/statsmodels/tsa/base/tsa_model.py:471: ValueWarning: No frequency information was provided, so inferred frequency H will be used.\n",
      "  self._init_dates(dates, freq)\n",
      "/usr/local/lib/python3.10/dist-packages/statsmodels/tsa/base/tsa_model.py:471: ValueWarning: No frequency information was provided, so inferred frequency H will be used.\n",
      "  self._init_dates(dates, freq)\n"
     ]
    },
    {
     "name": "stdout",
     "output_type": "stream",
     "text": [
      "6\n"
     ]
    },
    {
     "name": "stderr",
     "output_type": "stream",
     "text": [
      "/usr/local/lib/python3.10/dist-packages/statsmodels/tsa/base/tsa_model.py:471: ValueWarning: No frequency information was provided, so inferred frequency H will be used.\n",
      "  self._init_dates(dates, freq)\n",
      "/usr/local/lib/python3.10/dist-packages/statsmodels/tsa/base/tsa_model.py:471: ValueWarning: No frequency information was provided, so inferred frequency H will be used.\n",
      "  self._init_dates(dates, freq)\n",
      "/usr/local/lib/python3.10/dist-packages/statsmodels/tsa/base/tsa_model.py:471: ValueWarning: No frequency information was provided, so inferred frequency H will be used.\n",
      "  self._init_dates(dates, freq)\n"
     ]
    },
    {
     "name": "stdout",
     "output_type": "stream",
     "text": [
      "7\n"
     ]
    },
    {
     "name": "stderr",
     "output_type": "stream",
     "text": [
      "/usr/local/lib/python3.10/dist-packages/statsmodels/tsa/base/tsa_model.py:471: ValueWarning: No frequency information was provided, so inferred frequency H will be used.\n",
      "  self._init_dates(dates, freq)\n",
      "/usr/local/lib/python3.10/dist-packages/statsmodels/tsa/base/tsa_model.py:471: ValueWarning: No frequency information was provided, so inferred frequency H will be used.\n",
      "  self._init_dates(dates, freq)\n",
      "/usr/local/lib/python3.10/dist-packages/statsmodels/tsa/base/tsa_model.py:471: ValueWarning: No frequency information was provided, so inferred frequency H will be used.\n",
      "  self._init_dates(dates, freq)\n"
     ]
    },
    {
     "name": "stdout",
     "output_type": "stream",
     "text": [
      "8\n"
     ]
    },
    {
     "name": "stderr",
     "output_type": "stream",
     "text": [
      "/usr/local/lib/python3.10/dist-packages/statsmodels/tsa/base/tsa_model.py:471: ValueWarning: No frequency information was provided, so inferred frequency H will be used.\n",
      "  self._init_dates(dates, freq)\n",
      "/usr/local/lib/python3.10/dist-packages/statsmodels/tsa/base/tsa_model.py:471: ValueWarning: No frequency information was provided, so inferred frequency H will be used.\n",
      "  self._init_dates(dates, freq)\n",
      "/usr/local/lib/python3.10/dist-packages/statsmodels/tsa/base/tsa_model.py:471: ValueWarning: No frequency information was provided, so inferred frequency H will be used.\n",
      "  self._init_dates(dates, freq)\n"
     ]
    },
    {
     "name": "stdout",
     "output_type": "stream",
     "text": [
      "9\n"
     ]
    },
    {
     "name": "stderr",
     "output_type": "stream",
     "text": [
      "/usr/local/lib/python3.10/dist-packages/statsmodels/tsa/base/tsa_model.py:471: ValueWarning: No frequency information was provided, so inferred frequency H will be used.\n",
      "  self._init_dates(dates, freq)\n",
      "/usr/local/lib/python3.10/dist-packages/statsmodels/tsa/base/tsa_model.py:471: ValueWarning: No frequency information was provided, so inferred frequency H will be used.\n",
      "  self._init_dates(dates, freq)\n",
      "/usr/local/lib/python3.10/dist-packages/statsmodels/tsa/base/tsa_model.py:471: ValueWarning: No frequency information was provided, so inferred frequency H will be used.\n",
      "  self._init_dates(dates, freq)\n"
     ]
    },
    {
     "name": "stdout",
     "output_type": "stream",
     "text": [
      "10\n"
     ]
    },
    {
     "name": "stderr",
     "output_type": "stream",
     "text": [
      "/usr/local/lib/python3.10/dist-packages/statsmodels/tsa/base/tsa_model.py:471: ValueWarning: No frequency information was provided, so inferred frequency H will be used.\n",
      "  self._init_dates(dates, freq)\n",
      "/usr/local/lib/python3.10/dist-packages/statsmodels/tsa/base/tsa_model.py:471: ValueWarning: No frequency information was provided, so inferred frequency H will be used.\n",
      "  self._init_dates(dates, freq)\n",
      "/usr/local/lib/python3.10/dist-packages/statsmodels/tsa/base/tsa_model.py:471: ValueWarning: No frequency information was provided, so inferred frequency H will be used.\n",
      "  self._init_dates(dates, freq)\n"
     ]
    },
    {
     "name": "stdout",
     "output_type": "stream",
     "text": [
      "11\n"
     ]
    },
    {
     "name": "stderr",
     "output_type": "stream",
     "text": [
      "/usr/local/lib/python3.10/dist-packages/statsmodels/tsa/base/tsa_model.py:471: ValueWarning: No frequency information was provided, so inferred frequency H will be used.\n",
      "  self._init_dates(dates, freq)\n",
      "/usr/local/lib/python3.10/dist-packages/statsmodels/tsa/base/tsa_model.py:471: ValueWarning: No frequency information was provided, so inferred frequency H will be used.\n",
      "  self._init_dates(dates, freq)\n",
      "/usr/local/lib/python3.10/dist-packages/statsmodels/tsa/base/tsa_model.py:471: ValueWarning: No frequency information was provided, so inferred frequency H will be used.\n",
      "  self._init_dates(dates, freq)\n"
     ]
    },
    {
     "name": "stdout",
     "output_type": "stream",
     "text": [
      "12\n"
     ]
    },
    {
     "name": "stderr",
     "output_type": "stream",
     "text": [
      "/usr/local/lib/python3.10/dist-packages/statsmodels/tsa/base/tsa_model.py:471: ValueWarning: No frequency information was provided, so inferred frequency H will be used.\n",
      "  self._init_dates(dates, freq)\n",
      "/usr/local/lib/python3.10/dist-packages/statsmodels/tsa/base/tsa_model.py:471: ValueWarning: No frequency information was provided, so inferred frequency H will be used.\n",
      "  self._init_dates(dates, freq)\n",
      "/usr/local/lib/python3.10/dist-packages/statsmodels/tsa/base/tsa_model.py:471: ValueWarning: No frequency information was provided, so inferred frequency H will be used.\n",
      "  self._init_dates(dates, freq)\n"
     ]
    },
    {
     "name": "stdout",
     "output_type": "stream",
     "text": [
      "13\n"
     ]
    },
    {
     "name": "stderr",
     "output_type": "stream",
     "text": [
      "/usr/local/lib/python3.10/dist-packages/statsmodels/tsa/base/tsa_model.py:471: ValueWarning: No frequency information was provided, so inferred frequency H will be used.\n",
      "  self._init_dates(dates, freq)\n",
      "/usr/local/lib/python3.10/dist-packages/statsmodels/tsa/base/tsa_model.py:471: ValueWarning: No frequency information was provided, so inferred frequency H will be used.\n",
      "  self._init_dates(dates, freq)\n",
      "/usr/local/lib/python3.10/dist-packages/statsmodels/tsa/base/tsa_model.py:471: ValueWarning: No frequency information was provided, so inferred frequency H will be used.\n",
      "  self._init_dates(dates, freq)\n"
     ]
    },
    {
     "name": "stdout",
     "output_type": "stream",
     "text": [
      "14\n"
     ]
    },
    {
     "name": "stderr",
     "output_type": "stream",
     "text": [
      "/usr/local/lib/python3.10/dist-packages/statsmodels/tsa/base/tsa_model.py:471: ValueWarning: No frequency information was provided, so inferred frequency H will be used.\n",
      "  self._init_dates(dates, freq)\n",
      "/usr/local/lib/python3.10/dist-packages/statsmodels/tsa/base/tsa_model.py:471: ValueWarning: No frequency information was provided, so inferred frequency H will be used.\n",
      "  self._init_dates(dates, freq)\n",
      "/usr/local/lib/python3.10/dist-packages/statsmodels/tsa/base/tsa_model.py:471: ValueWarning: No frequency information was provided, so inferred frequency H will be used.\n",
      "  self._init_dates(dates, freq)\n"
     ]
    },
    {
     "name": "stdout",
     "output_type": "stream",
     "text": [
      "15\n"
     ]
    },
    {
     "name": "stderr",
     "output_type": "stream",
     "text": [
      "/usr/local/lib/python3.10/dist-packages/statsmodels/tsa/base/tsa_model.py:471: ValueWarning: No frequency information was provided, so inferred frequency H will be used.\n",
      "  self._init_dates(dates, freq)\n",
      "/usr/local/lib/python3.10/dist-packages/statsmodels/tsa/base/tsa_model.py:471: ValueWarning: No frequency information was provided, so inferred frequency H will be used.\n",
      "  self._init_dates(dates, freq)\n",
      "/usr/local/lib/python3.10/dist-packages/statsmodels/tsa/base/tsa_model.py:471: ValueWarning: No frequency information was provided, so inferred frequency H will be used.\n",
      "  self._init_dates(dates, freq)\n"
     ]
    },
    {
     "name": "stdout",
     "output_type": "stream",
     "text": [
      "16\n"
     ]
    },
    {
     "name": "stderr",
     "output_type": "stream",
     "text": [
      "/usr/local/lib/python3.10/dist-packages/statsmodels/tsa/base/tsa_model.py:471: ValueWarning: No frequency information was provided, so inferred frequency H will be used.\n",
      "  self._init_dates(dates, freq)\n",
      "/usr/local/lib/python3.10/dist-packages/statsmodels/tsa/base/tsa_model.py:471: ValueWarning: No frequency information was provided, so inferred frequency H will be used.\n",
      "  self._init_dates(dates, freq)\n",
      "/usr/local/lib/python3.10/dist-packages/statsmodels/tsa/base/tsa_model.py:471: ValueWarning: No frequency information was provided, so inferred frequency H will be used.\n",
      "  self._init_dates(dates, freq)\n"
     ]
    },
    {
     "name": "stdout",
     "output_type": "stream",
     "text": [
      "17\n"
     ]
    },
    {
     "name": "stderr",
     "output_type": "stream",
     "text": [
      "/usr/local/lib/python3.10/dist-packages/statsmodels/tsa/base/tsa_model.py:471: ValueWarning: No frequency information was provided, so inferred frequency H will be used.\n",
      "  self._init_dates(dates, freq)\n",
      "/usr/local/lib/python3.10/dist-packages/statsmodels/tsa/base/tsa_model.py:471: ValueWarning: No frequency information was provided, so inferred frequency H will be used.\n",
      "  self._init_dates(dates, freq)\n",
      "/usr/local/lib/python3.10/dist-packages/statsmodels/tsa/base/tsa_model.py:471: ValueWarning: No frequency information was provided, so inferred frequency H will be used.\n",
      "  self._init_dates(dates, freq)\n"
     ]
    },
    {
     "name": "stdout",
     "output_type": "stream",
     "text": [
      "18\n"
     ]
    },
    {
     "name": "stderr",
     "output_type": "stream",
     "text": [
      "/usr/local/lib/python3.10/dist-packages/statsmodels/tsa/base/tsa_model.py:471: ValueWarning: No frequency information was provided, so inferred frequency H will be used.\n",
      "  self._init_dates(dates, freq)\n",
      "/usr/local/lib/python3.10/dist-packages/statsmodels/tsa/base/tsa_model.py:471: ValueWarning: No frequency information was provided, so inferred frequency H will be used.\n",
      "  self._init_dates(dates, freq)\n",
      "/usr/local/lib/python3.10/dist-packages/statsmodels/tsa/base/tsa_model.py:471: ValueWarning: No frequency information was provided, so inferred frequency H will be used.\n",
      "  self._init_dates(dates, freq)\n"
     ]
    },
    {
     "name": "stdout",
     "output_type": "stream",
     "text": [
      "19\n"
     ]
    },
    {
     "name": "stderr",
     "output_type": "stream",
     "text": [
      "/usr/local/lib/python3.10/dist-packages/statsmodels/tsa/base/tsa_model.py:471: ValueWarning: No frequency information was provided, so inferred frequency H will be used.\n",
      "  self._init_dates(dates, freq)\n",
      "/usr/local/lib/python3.10/dist-packages/statsmodels/tsa/base/tsa_model.py:471: ValueWarning: No frequency information was provided, so inferred frequency H will be used.\n",
      "  self._init_dates(dates, freq)\n",
      "/usr/local/lib/python3.10/dist-packages/statsmodels/tsa/base/tsa_model.py:471: ValueWarning: No frequency information was provided, so inferred frequency H will be used.\n",
      "  self._init_dates(dates, freq)\n"
     ]
    },
    {
     "name": "stdout",
     "output_type": "stream",
     "text": [
      "20\n"
     ]
    },
    {
     "name": "stderr",
     "output_type": "stream",
     "text": [
      "/usr/local/lib/python3.10/dist-packages/statsmodels/tsa/base/tsa_model.py:471: ValueWarning: No frequency information was provided, so inferred frequency H will be used.\n",
      "  self._init_dates(dates, freq)\n",
      "/usr/local/lib/python3.10/dist-packages/statsmodels/tsa/base/tsa_model.py:471: ValueWarning: No frequency information was provided, so inferred frequency H will be used.\n",
      "  self._init_dates(dates, freq)\n",
      "/usr/local/lib/python3.10/dist-packages/statsmodels/tsa/base/tsa_model.py:471: ValueWarning: No frequency information was provided, so inferred frequency H will be used.\n",
      "  self._init_dates(dates, freq)\n"
     ]
    },
    {
     "name": "stdout",
     "output_type": "stream",
     "text": [
      "21\n"
     ]
    },
    {
     "name": "stderr",
     "output_type": "stream",
     "text": [
      "/usr/local/lib/python3.10/dist-packages/statsmodels/tsa/base/tsa_model.py:471: ValueWarning: No frequency information was provided, so inferred frequency H will be used.\n",
      "  self._init_dates(dates, freq)\n",
      "/usr/local/lib/python3.10/dist-packages/statsmodels/tsa/base/tsa_model.py:471: ValueWarning: No frequency information was provided, so inferred frequency H will be used.\n",
      "  self._init_dates(dates, freq)\n",
      "/usr/local/lib/python3.10/dist-packages/statsmodels/tsa/base/tsa_model.py:471: ValueWarning: No frequency information was provided, so inferred frequency H will be used.\n",
      "  self._init_dates(dates, freq)\n"
     ]
    },
    {
     "name": "stdout",
     "output_type": "stream",
     "text": [
      "22\n"
     ]
    },
    {
     "name": "stderr",
     "output_type": "stream",
     "text": [
      "/usr/local/lib/python3.10/dist-packages/statsmodels/tsa/base/tsa_model.py:471: ValueWarning: No frequency information was provided, so inferred frequency H will be used.\n",
      "  self._init_dates(dates, freq)\n",
      "/usr/local/lib/python3.10/dist-packages/statsmodels/tsa/base/tsa_model.py:471: ValueWarning: No frequency information was provided, so inferred frequency H will be used.\n",
      "  self._init_dates(dates, freq)\n",
      "/usr/local/lib/python3.10/dist-packages/statsmodels/tsa/base/tsa_model.py:471: ValueWarning: No frequency information was provided, so inferred frequency H will be used.\n",
      "  self._init_dates(dates, freq)\n"
     ]
    },
    {
     "name": "stdout",
     "output_type": "stream",
     "text": [
      "23\n"
     ]
    },
    {
     "name": "stderr",
     "output_type": "stream",
     "text": [
      "/usr/local/lib/python3.10/dist-packages/statsmodels/tsa/base/tsa_model.py:471: ValueWarning: No frequency information was provided, so inferred frequency H will be used.\n",
      "  self._init_dates(dates, freq)\n",
      "/usr/local/lib/python3.10/dist-packages/statsmodels/tsa/base/tsa_model.py:471: ValueWarning: No frequency information was provided, so inferred frequency H will be used.\n",
      "  self._init_dates(dates, freq)\n",
      "/usr/local/lib/python3.10/dist-packages/statsmodels/tsa/base/tsa_model.py:471: ValueWarning: No frequency information was provided, so inferred frequency H will be used.\n",
      "  self._init_dates(dates, freq)\n"
     ]
    },
    {
     "name": "stdout",
     "output_type": "stream",
     "text": [
      "24\n"
     ]
    },
    {
     "name": "stderr",
     "output_type": "stream",
     "text": [
      "/usr/local/lib/python3.10/dist-packages/statsmodels/tsa/base/tsa_model.py:471: ValueWarning: No frequency information was provided, so inferred frequency H will be used.\n",
      "  self._init_dates(dates, freq)\n",
      "/usr/local/lib/python3.10/dist-packages/statsmodels/tsa/base/tsa_model.py:471: ValueWarning: No frequency information was provided, so inferred frequency H will be used.\n",
      "  self._init_dates(dates, freq)\n",
      "/usr/local/lib/python3.10/dist-packages/statsmodels/tsa/base/tsa_model.py:471: ValueWarning: No frequency information was provided, so inferred frequency H will be used.\n",
      "  self._init_dates(dates, freq)\n"
     ]
    }
   ],
   "source": [
    "train_end = int(len(df_s)*0.8)\n",
    "test_end = int(len(df_s))\n",
    "train_data = df_s.available_count[:train_end]\n",
    "test_data = df_s.available_count[train_end: test_end]\n",
    "ma_orders = [1,2, 3,4,5,6, 7,8,9, 10,11,12,13,14,15,16,17,18,19,20,21,22,23,24]\n",
    "fitted_model_dict = {}\n",
    "\n",
    "for idx, ma_order in enumerate(ma_orders):\n",
    "    print(ma_order)\n",
    "    \n",
    "    \n",
    "    ma_model = sm.tsa.arima.ARIMA(train_data, order=(0, 0, ma_order))\n",
    "    ma_model_fit = ma_model.fit()\n",
    "    fitted_model_dict[ma_order] = ma_model_fit\n",
    "    #plt.subplot(10,1,idx+1)\n",
    "    #plt.plot(train_data[:100])\n",
    "    #plt.plot(ar_model_fit.fittedvalues[:100])\n",
    "    #plt.title('AR(%s) Fit'%ar_order, fontsize=16)\n",
    "\n",
    "#plt.tight_layout()"
   ]
  },
  {
   "cell_type": "code",
   "execution_count": null,
   "metadata": {
    "colab": {
     "base_uri": "https://localhost:8080/"
    },
    "id": "WG96r3yarYUi",
    "outputId": "9208281b-6529-46ee-aab5-64ee5636d622"
   },
   "outputs": [
    {
     "name": "stdout",
     "output_type": "stream",
     "text": [
      "AIC for MA(1): 9389.445917833245\n",
      "AIC for MA(2): 9077.450534938533\n",
      "AIC for MA(3): 8921.261127407548\n",
      "AIC for MA(4): 8817.707858010304\n",
      "AIC for MA(5): 8744.960181419108\n",
      "AIC for MA(6): 8705.086280764866\n",
      "AIC for MA(7): 8688.571555638267\n",
      "AIC for MA(8): 8670.48932941482\n",
      "AIC for MA(9): 8647.21808902321\n",
      "AIC for MA(10): 8643.261224667323\n",
      "AIC for MA(11): 8643.595478350533\n",
      "AIC for MA(12): 8645.536698829392\n",
      "AIC for MA(13): 8647.193130583626\n",
      "AIC for MA(14): 8633.33366283472\n",
      "AIC for MA(15): 8631.281770816287\n",
      "AIC for MA(16): 8626.213293374938\n",
      "AIC for MA(17): 8621.411945280142\n",
      "AIC for MA(18): 8617.293119778984\n",
      "AIC for MA(19): 8610.831693873157\n",
      "AIC for MA(20): 8597.656465167562\n",
      "AIC for MA(21): 8577.645569687957\n",
      "AIC for MA(22): 8575.424175593746\n",
      "AIC for MA(23): 8616.905664433238\n",
      "AIC for MA(24): 8569.321517233544\n"
     ]
    }
   ],
   "source": [
    "#AIC comparison\n",
    "for ma_order in ma_orders:\n",
    "    print('AIC for MA(%s): %s'%(ma_order, fitted_model_dict[ma_order].aic))"
   ]
  },
  {
   "cell_type": "code",
   "execution_count": null,
   "metadata": {
    "colab": {
     "base_uri": "https://localhost:8080/"
    },
    "id": "b80AMQPkrowI",
    "outputId": "c3b90a06-9c96-4ae7-dd64-a9cc8bbd2701"
   },
   "outputs": [
    {
     "name": "stdout",
     "output_type": "stream",
     "text": [
      "BIC for MA(1): 9406.830387289783\n",
      "BIC for MA(6): 8751.444865982301\n",
      "BIC for MA(12): 8726.664222959904\n",
      "BIC for MA(24): 8719.986919190209\n"
     ]
    }
   ],
   "source": [
    "#BIC comparison\n",
    "for ma_order in ma_orders:\n",
    "    print('BIC for MA(%s): %s'%(ma_order, fitted_model_dict[ma_order].bic))"
   ]
  },
  {
   "cell_type": "code",
   "execution_count": null,
   "metadata": {
    "colab": {
     "base_uri": "https://localhost:8080/"
    },
    "id": "BfFsN7BGuUkP",
    "outputId": "59d06dbf-2581-466b-ff6b-5c205b2c8bc3"
   },
   "outputs": [
    {
     "name": "stdout",
     "output_type": "stream",
     "text": [
      "Looking in indexes: https://pypi.org/simple, https://us-python.pkg.dev/colab-wheels/public/simple/\n",
      "Requirement already satisfied: pmdarima in /usr/local/lib/python3.10/dist-packages (2.0.3)\n",
      "Requirement already satisfied: statsmodels>=0.13.2 in /usr/local/lib/python3.10/dist-packages (from pmdarima) (0.13.5)\n",
      "Requirement already satisfied: scipy>=1.3.2 in /usr/local/lib/python3.10/dist-packages (from pmdarima) (1.10.1)\n",
      "Requirement already satisfied: joblib>=0.11 in /usr/local/lib/python3.10/dist-packages (from pmdarima) (1.2.0)\n",
      "Requirement already satisfied: urllib3 in /usr/local/lib/python3.10/dist-packages (from pmdarima) (1.26.15)\n",
      "Requirement already satisfied: pandas>=0.19 in /usr/local/lib/python3.10/dist-packages (from pmdarima) (1.5.3)\n",
      "Requirement already satisfied: setuptools!=50.0.0,>=38.6.0 in /usr/local/lib/python3.10/dist-packages (from pmdarima) (67.7.2)\n",
      "Requirement already satisfied: numpy>=1.21.2 in /usr/local/lib/python3.10/dist-packages (from pmdarima) (1.22.4)\n",
      "Requirement already satisfied: Cython!=0.29.18,!=0.29.31,>=0.29 in /usr/local/lib/python3.10/dist-packages (from pmdarima) (0.29.34)\n",
      "Requirement already satisfied: scikit-learn>=0.22 in /usr/local/lib/python3.10/dist-packages (from pmdarima) (1.2.2)\n",
      "Requirement already satisfied: python-dateutil>=2.8.1 in /usr/local/lib/python3.10/dist-packages (from pandas>=0.19->pmdarima) (2.8.2)\n",
      "Requirement already satisfied: pytz>=2020.1 in /usr/local/lib/python3.10/dist-packages (from pandas>=0.19->pmdarima) (2022.7.1)\n",
      "Requirement already satisfied: threadpoolctl>=2.0.0 in /usr/local/lib/python3.10/dist-packages (from scikit-learn>=0.22->pmdarima) (3.1.0)\n",
      "Requirement already satisfied: patsy>=0.5.2 in /usr/local/lib/python3.10/dist-packages (from statsmodels>=0.13.2->pmdarima) (0.5.3)\n",
      "Requirement already satisfied: packaging>=21.3 in /usr/local/lib/python3.10/dist-packages (from statsmodels>=0.13.2->pmdarima) (23.1)\n",
      "Requirement already satisfied: six in /usr/local/lib/python3.10/dist-packages (from patsy>=0.5.2->statsmodels>=0.13.2->pmdarima) (1.16.0)\n"
     ]
    }
   ],
   "source": [
    "!pip install pmdarima\n",
    "from pmdarima import auto_arima"
   ]
  },
  {
   "cell_type": "code",
   "execution_count": null,
   "metadata": {
    "colab": {
     "base_uri": "https://localhost:8080/"
    },
    "id": "f42gADn1vry7",
    "outputId": "d43daf4a-a27f-4d6f-96ad-de8434b5c06d"
   },
   "outputs": [
    {
     "name": "stdout",
     "output_type": "stream",
     "text": [
      "Performing stepwise search to minimize aic\n",
      " ARIMA(1,1,1)(0,0,0)[0] intercept   : AIC=8911.968, Time=1.03 sec\n",
      " ARIMA(0,1,0)(0,0,0)[0] intercept   : AIC=9382.866, Time=0.15 sec\n",
      " ARIMA(1,1,0)(0,0,0)[0] intercept   : AIC=8970.036, Time=0.29 sec\n",
      " ARIMA(0,1,1)(0,0,0)[0] intercept   : AIC=8916.576, Time=0.68 sec\n",
      " ARIMA(0,1,0)(0,0,0)[0]             : AIC=9380.867, Time=0.16 sec\n",
      " ARIMA(2,1,1)(0,0,0)[0] intercept   : AIC=8911.722, Time=1.47 sec\n",
      " ARIMA(2,1,0)(0,0,0)[0] intercept   : AIC=8913.500, Time=0.36 sec\n",
      " ARIMA(3,1,1)(0,0,0)[0] intercept   : AIC=8912.592, Time=1.51 sec\n",
      " ARIMA(2,1,2)(0,0,0)[0] intercept   : AIC=inf, Time=5.32 sec\n",
      " ARIMA(1,1,2)(0,0,0)[0] intercept   : AIC=8910.030, Time=1.60 sec\n",
      " ARIMA(0,1,2)(0,0,0)[0] intercept   : AIC=8910.900, Time=0.46 sec\n",
      " ARIMA(1,1,3)(0,0,0)[0] intercept   : AIC=inf, Time=6.39 sec\n",
      " ARIMA(0,1,3)(0,0,0)[0] intercept   : AIC=8909.545, Time=0.58 sec\n",
      " ARIMA(0,1,4)(0,0,0)[0] intercept   : AIC=8909.727, Time=0.76 sec\n",
      " ARIMA(1,1,4)(0,0,0)[0] intercept   : AIC=8911.727, Time=1.88 sec\n",
      " ARIMA(0,1,3)(0,0,0)[0]             : AIC=8907.547, Time=0.33 sec\n",
      " ARIMA(0,1,2)(0,0,0)[0]             : AIC=8908.902, Time=0.21 sec\n",
      " ARIMA(1,1,3)(0,0,0)[0]             : AIC=inf, Time=1.25 sec\n",
      " ARIMA(0,1,4)(0,0,0)[0]             : AIC=8907.729, Time=0.44 sec\n",
      " ARIMA(1,1,2)(0,0,0)[0]             : AIC=8908.032, Time=0.53 sec\n",
      " ARIMA(1,1,4)(0,0,0)[0]             : AIC=8909.729, Time=0.85 sec\n",
      "\n",
      "Best model:  ARIMA(0,1,3)(0,0,0)[0]          \n",
      "Total fit time: 26.309 seconds\n"
     ]
    }
   ],
   "source": [
    "train_end = int(len(df_s)*0.8)\n",
    "test_end = int(len(df_s))\n",
    "train_data = df_s.available_count[:train_end]\n",
    "test_data = df_s.available_count[train_end: test_end]\n",
    "stepwise_model = auto_arima(train_data,start_p=1, start_q=1,\n",
    "    max_p=3, max_q=6, seasonal=False,\n",
    "    d=None, trace=True,error_action='ignore',suppress_warnings=True, stepwise=True)"
   ]
  },
  {
   "cell_type": "code",
   "execution_count": null,
   "metadata": {
    "colab": {
     "base_uri": "https://localhost:8080/"
    },
    "id": "XmcexSMAxoIA",
    "outputId": "25ab307d-3f0b-4462-f1f3-85b1f0ba7a9b"
   },
   "outputs": [
    {
     "name": "stdout",
     "output_type": "stream",
     "text": [
      "Performing stepwise search to minimize aic\n",
      " ARIMA(3,0,5)(0,0,0)[0]             : AIC=inf, Time=14.09 sec\n",
      " ARIMA(0,0,0)(0,0,0)[0]             : AIC=13371.349, Time=0.12 sec\n",
      " ARIMA(1,0,0)(0,0,0)[0]             : AIC=9268.135, Time=0.22 sec\n",
      " ARIMA(0,0,1)(0,0,0)[0]             : AIC=11639.515, Time=0.52 sec\n",
      " ARIMA(2,0,0)(0,0,0)[0]             : AIC=8921.775, Time=0.45 sec\n",
      " ARIMA(3,0,0)(0,0,0)[0]             : AIC=8878.902, Time=0.42 sec\n",
      " ARIMA(3,0,1)(0,0,0)[0]             : AIC=8879.593, Time=1.50 sec\n",
      " ARIMA(2,0,1)(0,0,0)[0]             : AIC=8880.918, Time=1.73 sec\n",
      " ARIMA(3,0,0)(0,0,0)[0] intercept   : AIC=8713.675, Time=1.87 sec\n",
      " ARIMA(2,0,0)(0,0,0)[0] intercept   : AIC=8720.642, Time=0.92 sec\n",
      " ARIMA(3,0,1)(0,0,0)[0] intercept   : AIC=8714.590, Time=3.01 sec\n",
      " ARIMA(2,0,1)(0,0,0)[0] intercept   : AIC=8716.581, Time=0.95 sec\n",
      "\n",
      "Best model:  ARIMA(3,0,0)(0,0,0)[0] intercept\n",
      "Total fit time: 25.861 seconds\n",
      "                               SARIMAX Results                                \n",
      "==============================================================================\n",
      "Dep. Variable:                      y   No. Observations:                 2428\n",
      "Model:               SARIMAX(3, 0, 0)   Log Likelihood               -4351.837\n",
      "Date:                Fri, 28 Apr 2023   AIC                           8713.675\n",
      "Time:                        08:31:31   BIC                           8742.649\n",
      "Sample:                    09-01-2022   HQIC                          8724.210\n",
      "                         - 12-11-2022                                         \n",
      "Covariance Type:                  opg                                         \n",
      "==============================================================================\n",
      "                 coef    std err          z      P>|z|      [0.025      0.975]\n",
      "------------------------------------------------------------------------------\n",
      "intercept      0.8567      0.075     11.428      0.000       0.710       1.004\n",
      "ar.L1          0.4487      0.020     22.498      0.000       0.410       0.488\n",
      "ar.L2          0.2289      0.019     11.845      0.000       0.191       0.267\n",
      "ar.L3          0.0607      0.018      3.293      0.001       0.025       0.097\n",
      "sigma2         2.1097      0.069     30.457      0.000       1.974       2.245\n",
      "===================================================================================\n",
      "Ljung-Box (L1) (Q):                   0.02   Jarque-Bera (JB):                36.71\n",
      "Prob(Q):                              0.90   Prob(JB):                         0.00\n",
      "Heteroskedasticity (H):               1.53   Skew:                            -0.28\n",
      "Prob(H) (two-sided):                  0.00   Kurtosis:                         3.23\n",
      "===================================================================================\n",
      "\n",
      "Warnings:\n",
      "[1] Covariance matrix calculated using the outer product of gradients (complex-step).\n"
     ]
    }
   ],
   "source": [
    "import pmdarima as pm\n",
    "\n",
    "model = pm.auto_arima(train_data, start_p=3, start_q=5,\n",
    "                      test='adf',       # use adftest to find optimal 'd'\n",
    "                      max_p=3, max_q=6, # maximum p and q\n",
    "                      m=1,              # frequency of series\n",
    "                      d=None,           # let model determine 'd'\n",
    "                      seasonal=False,   # No Seasonality\n",
    "                      start_P=0, \n",
    "                      D=0, \n",
    "                      trace=True,\n",
    "                      error_action='ignore',  \n",
    "                      suppress_warnings=True, \n",
    "                      stepwise=True)\n",
    "\n",
    "print(model.summary())"
   ]
  },
  {
   "cell_type": "code",
   "execution_count": null,
   "metadata": {
    "colab": {
     "base_uri": "https://localhost:8080/"
    },
    "id": "S2-Zao0GxoLs",
    "outputId": "0a23590f-7f90-4e8b-a844-c89065381329"
   },
   "outputs": [
    {
     "name": "stdout",
     "output_type": "stream",
     "text": [
      "Performing stepwise search to minimize aic\n",
      " ARIMA(2,0,2)(1,1,1)[12] intercept   : AIC=inf, Time=56.74 sec\n",
      " ARIMA(0,0,0)(0,1,0)[12] intercept   : AIC=12463.275, Time=0.19 sec\n",
      " ARIMA(1,0,0)(1,1,0)[12] intercept   : AIC=9377.034, Time=4.72 sec\n",
      " ARIMA(0,0,1)(0,1,1)[12] intercept   : AIC=inf, Time=5.72 sec\n",
      " ARIMA(0,0,0)(0,1,0)[12]             : AIC=12461.275, Time=0.16 sec\n",
      " ARIMA(1,0,0)(0,1,0)[12] intercept   : AIC=10752.087, Time=0.38 sec\n",
      " ARIMA(1,0,0)(2,1,0)[12] intercept   : AIC=9339.036, Time=9.44 sec\n",
      " ARIMA(1,0,0)(2,1,1)[12] intercept   : AIC=inf, Time=37.25 sec\n",
      " ARIMA(1,0,0)(1,1,1)[12] intercept   : AIC=inf, Time=13.46 sec\n",
      " ARIMA(0,0,0)(2,1,0)[12] intercept   : AIC=9525.620, Time=6.68 sec\n",
      " ARIMA(2,0,0)(2,1,0)[12] intercept   : AIC=9256.681, Time=13.66 sec\n",
      " ARIMA(2,0,0)(1,1,0)[12] intercept   : AIC=9317.627, Time=6.63 sec\n",
      " ARIMA(2,0,0)(2,1,1)[12] intercept   : AIC=inf, Time=47.94 sec\n",
      " ARIMA(2,0,0)(1,1,1)[12] intercept   : AIC=inf, Time=16.66 sec\n",
      " ARIMA(3,0,0)(2,1,0)[12] intercept   : AIC=9235.984, Time=18.46 sec\n",
      " ARIMA(3,0,0)(1,1,0)[12] intercept   : AIC=9300.325, Time=8.25 sec\n",
      " ARIMA(3,0,0)(2,1,1)[12] intercept   : AIC=inf, Time=53.98 sec\n",
      " ARIMA(3,0,0)(1,1,1)[12] intercept   : AIC=inf, Time=22.30 sec\n",
      " ARIMA(3,0,1)(2,1,0)[12] intercept   : AIC=9237.362, Time=32.02 sec\n",
      " ARIMA(2,0,1)(2,1,0)[12] intercept   : AIC=9239.384, Time=18.52 sec\n",
      " ARIMA(3,0,0)(2,1,0)[12]             : AIC=9233.985, Time=6.53 sec\n",
      " ARIMA(3,0,0)(1,1,0)[12]             : AIC=9298.326, Time=2.50 sec\n",
      " ARIMA(3,0,0)(2,1,1)[12]             : AIC=inf, Time=42.34 sec\n",
      " ARIMA(3,0,0)(1,1,1)[12]             : AIC=inf, Time=9.30 sec\n",
      " ARIMA(2,0,0)(2,1,0)[12]             : AIC=9254.682, Time=4.39 sec\n",
      " ARIMA(3,0,1)(2,1,0)[12]             : AIC=9235.363, Time=9.31 sec\n",
      " ARIMA(2,0,1)(2,1,0)[12]             : AIC=9237.385, Time=5.39 sec\n",
      "\n",
      "Best model:  ARIMA(3,0,0)(2,1,0)[12]          \n",
      "Total fit time: 452.995 seconds\n",
      "                                     SARIMAX Results                                      \n",
      "==========================================================================================\n",
      "Dep. Variable:                                  y   No. Observations:                 2428\n",
      "Model:             SARIMAX(3, 0, 0)x(2, 1, 0, 12)   Log Likelihood               -4610.993\n",
      "Date:                            Fri, 28 Apr 2023   AIC                           9233.985\n",
      "Time:                                    10:37:13   BIC                           9268.724\n",
      "Sample:                                09-01-2022   HQIC                          9246.619\n",
      "                                     - 12-11-2022                                         \n",
      "Covariance Type:                              opg                                         \n",
      "==============================================================================\n",
      "                 coef    std err          z      P>|z|      [0.025      0.975]\n",
      "------------------------------------------------------------------------------\n",
      "ar.L1          0.2991      0.019     15.683      0.000       0.262       0.337\n",
      "ar.L2          0.1671      0.019      8.624      0.000       0.129       0.205\n",
      "ar.L3          0.0968      0.019      5.079      0.000       0.059       0.134\n",
      "ar.S.L12      -0.8211      0.023    -36.207      0.000      -0.866      -0.777\n",
      "ar.S.L24      -0.1748      0.022     -7.873      0.000      -0.218      -0.131\n",
      "sigma2         2.6523      0.075     35.571      0.000       2.506       2.798\n",
      "===================================================================================\n",
      "Ljung-Box (L1) (Q):                   0.01   Jarque-Bera (JB):                55.17\n",
      "Prob(Q):                              0.92   Prob(JB):                         0.00\n",
      "Heteroskedasticity (H):               1.49   Skew:                            -0.32\n",
      "Prob(H) (two-sided):                  0.00   Kurtosis:                         3.39\n",
      "===================================================================================\n",
      "\n",
      "Warnings:\n",
      "[1] Covariance matrix calculated using the outer product of gradients (complex-step).\n"
     ]
    }
   ],
   "source": [
    "import pmdarima as pm\n",
    "train_end = int(len(df_s)*0.8)\n",
    "test_end = int(len(df_s))\n",
    "train_data = df_s.available_count[:train_end]\n",
    "test_data = df_s.available_count[train_end: test_end]\n",
    "# Create auto_arima model\n",
    "model1 = pm.auto_arima(train_data,\n",
    "                      seasonal=True, m=12,\n",
    "                      d=0, D=1,\n",
    "                      max_p=3, max_q=6,\n",
    "                      trace=True,\n",
    "                      error_action='ignore',\n",
    "                      suppress_warnings=True)\n",
    "\n",
    "# Print model summary\n",
    "print(model1.summary())"
   ]
  },
  {
   "cell_type": "code",
   "execution_count": null,
   "metadata": {
    "id": "At00Oe5VxoNc"
   },
   "outputs": [],
   "source": []
  },
  {
   "cell_type": "code",
   "execution_count": null,
   "metadata": {
    "id": "rcvPa9OHxoPs"
   },
   "outputs": [],
   "source": []
  },
  {
   "cell_type": "code",
   "execution_count": null,
   "metadata": {
    "id": "rwrao9mor666"
   },
   "outputs": [],
   "source": [
    "train_end = int(len(df_s)*0.8)\n",
    "test_end = int(len(df_s))\n",
    "train_data = df_s.available_count[:train_end]\n",
    "test_data = df_s.available_count[train_end: test_end]\n",
    "\n",
    "ar_orders = [1,2, 3,4,5,6, 7,8,9, 10]\n",
    "ma_orders = [1,2, 3,4,5,6, 7,8,9, 10]\n",
    "fitted_model_dict = {}\n",
    "\n",
    "for idx, ar_order in enumerate(ar_orders):\n",
    "  for idx, ma_order in enumerate(ma_orders):\n",
    "    \n",
    "    \n",
    "    ma_model = sm.tsa.arima.ARIMA(train_data, order=(0, 0, ma_order))\n",
    "    ma_model_fit = ma_model.fit()\n",
    "    fitted_model_dict[ma_order] = ma_model_fit\n",
    "    #plt.subplot(10,1,idx+1)\n",
    "    #plt.plot(train_data[:100])\n",
    "    #plt.plot(ar_model_fit.fittedvalues[:100])\n",
    "    #plt.title('AR(%s) Fit'%ar_order, fontsize=16)\n",
    "\n",
    "#plt.tight_layout()"
   ]
  },
  {
   "cell_type": "code",
   "execution_count": null,
   "metadata": {},
   "outputs": [],
   "source": [
    "train_end = int(len(df_s)*0.8)\n",
    "test_end = int(len(df_s))\n",
    "train_data = df_s.available_count[:train_end]\n",
    "test_data = df_s.available_count[train_end: test_end]"
   ]
  }
 ],
 "metadata": {
  "colab": {
   "provenance": []
  },
  "kernelspec": {
   "display_name": "Python 3 (ipykernel)",
   "language": "python",
   "name": "python3"
  },
  "language_info": {
   "codemirror_mode": {
    "name": "ipython",
    "version": 3
   },
   "file_extension": ".py",
   "mimetype": "text/x-python",
   "name": "python",
   "nbconvert_exporter": "python",
   "pygments_lexer": "ipython3",
   "version": "3.8.1"
  }
 },
 "nbformat": 4,
 "nbformat_minor": 1
}
